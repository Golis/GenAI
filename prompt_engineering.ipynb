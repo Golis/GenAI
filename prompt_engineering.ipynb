{
 "cells": [
  {
   "cell_type": "code",
   "execution_count": null,
   "metadata": {},
   "outputs": [],
   "source": [
    "#   for Azure\n",
    "#!pip install openai==0.28\n",
    "\n",
    "#   for OpenAI\n",
    "!pip install openai==1.0.0\n"
   ]
  },
  {
   "cell_type": "code",
   "execution_count": 1,
   "metadata": {},
   "outputs": [],
   "source": [
    "import os\n",
    "import openai\n",
    "\n",
    "#from dotenv import load_dotenv, find_dotenv\n",
    "#_ = load_dotenv(find_dotenv())\n",
    "\n",
    "#Only for Azure\n",
    "#os.environ[\"OPENAI_API_TYPE\"] = os.getenv(\"OPENAI_API_TYPE\")\n",
    "#Only for Azure\n",
    "#os.environ[\"OPENAI_API_KEY\"] = os.getenv('OPENAI_API_KEY')\n",
    "#Only for Azure\n",
    "#os.environ[\"OPENAI_API_BASE\"] = os.getenv('OPENAI_API_BASE')\n",
    "#Only for Azure\n",
    "#os.environ[\"OPENAI_API_VERSION\"] = os.getenv('OPENAI_API_VERSION')\n",
    "openai.api_key=os.getenv('OPENAI_API_KEY')"
   ]
  },
  {
   "cell_type": "code",
   "execution_count": null,
   "metadata": {},
   "outputs": [],
   "source": [
    "#AZURE VERSION\n",
    "    \n",
    "def get_completion(prompt, model=\"gpt-4-32k\"):\n",
    "    messages = [{\"role\": \"user\", \"content\": prompt}]\n",
    "    response = openai.ChatCompletion.create(\n",
    "        engine=\"gpt-4-32k\",\n",
    "        messages=messages,\n",
    "        temperature=0\n",
    "    )\n",
    "\n",
    "    return response.choices[0].message.content"
   ]
  },
  {
   "cell_type": "code",
   "execution_count": 2,
   "metadata": {},
   "outputs": [],
   "source": [
    "#OPENAI version NO AZURE\n",
    "client = openai.OpenAI()\n",
    "\n",
    "def get_completion(prompt, model=\"gpt-3.5-turbo\"):\n",
    "    messages = [{\"role\": \"user\", \"content\": prompt}]\n",
    "    response = client.chat.completions.create(\n",
    "        model=model,\n",
    "        messages=messages,\n",
    "        temperature=0\n",
    "    )\n",
    "    return response.choices[0].message.content"
   ]
  },
  {
   "cell_type": "markdown",
   "metadata": {},
   "source": [
    "## Principios del Prompt Engineering\n",
    "- **Principio 1: Escribir instrucciones claras y específicas**\n",
    "- **Principio 2: Dar al modelo tiempo para \"pensar\"**\n",
    "\n",
    "### Técnicas principio 1\n",
    "\n",
    "#### Técnica 1: Usar delimitadores claros para indicar distintas partes del input.\n",
    "- Los Delimitadores pueden ser algo tipo: ```, \"\"\", < >, `<tag> </tag>`, `:`"
   ]
  },
  {
   "cell_type": "code",
   "execution_count": 3,
   "metadata": {},
   "outputs": [
    {
     "name": "stdout",
     "output_type": "stream",
     "text": [
      "Es importante proporcionar instrucciones claras y específicas a un modelo para obtener resultados deseados y evitar respuestas irrelevantes o incorrectas.\n"
     ]
    }
   ],
   "source": [
    "text = f\"\"\"\n",
    "Debe expresar lo que quiere que haga un modelo proporcionando instrucciones que sean lo más claras y específicas posible.\n",
    "Esto guiará el modelo hacia el resultado deseado y reducirá las posibilidades de recibir respuestas irrelevantes o incorrectas. No confunda escribir un mensaje claro con escribir un mensaje breve.\n",
    "En muchos casos, las indicaciones más largas brindan más claridad y contexto para el modelo, lo que puede conducir a resultados más detallados y relevantes.\n",
    "\"\"\"\n",
    "prompt = f\"\"\"\n",
    "Resume el texto delimitado por triples comillas en una sola frase.\n",
    "'''{text}'''\n",
    "\"\"\"\n",
    "response = get_completion(prompt)\n",
    "print(response)"
   ]
  },
  {
   "cell_type": "markdown",
   "metadata": {},
   "source": [
    "#### Técnica 2: Preguntar por un output estructurado\n",
    "- JSON, HTML"
   ]
  },
  {
   "cell_type": "code",
   "execution_count": null,
   "metadata": {},
   "outputs": [],
   "source": [
    "prompt = f\"\"\"\n",
    "Genere una lista de tres títulos de libros inventados junto con sus autores y géneros.\n",
    "Proporciónelos en formato JSON con las siguientes claves:\n",
    "book_id, título, autor, género.\n",
    "\"\"\"\n",
    "response = get_completion(prompt)\n",
    "print(response)"
   ]
  },
  {
   "cell_type": "markdown",
   "metadata": {},
   "source": [
    "#### Técnica 3: Preguntar al modelo si las condiciones se cumplen"
   ]
  },
  {
   "cell_type": "code",
   "execution_count": 4,
   "metadata": {},
   "outputs": [
    {
     "name": "stdout",
     "output_type": "stream",
     "text": [
      "Paso 1 - Poner un poco de agua a hervir.\n",
      "Paso 2 - Coger una taza y ponerle una bolsita de té.\n",
      "Paso 3 - Verter el agua caliente sobre la bolsita de té.\n",
      "Paso 4 - Dejar reposar el té durante unos minutos.\n",
      "Paso 5 - Sacar la bolsita de té.\n",
      "Paso 6 - Añadir azúcar o leche al gusto.\n",
      "Paso 7 - Disfrutar de una deliciosa taza de té.\n"
     ]
    }
   ],
   "source": [
    "text_1 = f\"\"\"\n",
    "¡Preparar una taza de té es fácil! Primero, necesitas poner un poco de agua a hervir. Mientras tanto, coge una taza y ponle una bolsita de té.\n",
    "Una vez que el agua esté lo suficientemente caliente, simplemente viértela sobre la bolsita de té.\n",
    "Déjalo reposar un rato para que el té se repose. Después de unos minutos, saca la bolsita de té.\n",
    "Si quieres puedes añadir un poco de azúcar o leche al gusto.\n",
    "¡Y eso es todo! Tienes una deliciosa taza de té para disfrutar.\n",
    "\"\"\"\n",
    "prompt = f\"\"\"\n",
    "Se proporcionará un texto delimitado por comillas triples.\n",
    "Si contiene una secuencia de instrucciones, vuelve a escribir esas instrucciones en el siguiente formato:\n",
    "\n",
    "Paso 1 - ...\n",
    "Paso 2 - …\n",
    "…\n",
    "Paso N -…\n",
    "\n",
    "Si el texto no contiene una secuencia de instrucciones, simplemente escribe \"Lo siento, no se han proporcionan pasos\".\n",
    "\n",
    "'''{text_1}'''\n",
    "\"\"\"\n",
    "response = get_completion(prompt)\n",
    "print(response)"
   ]
  },
  {
   "cell_type": "code",
   "execution_count": null,
   "metadata": {},
   "outputs": [],
   "source": [
    "text_2 = f\"\"\"\n",
    "Hoy el sol brilla intensamente y los pájaros cantan.\n",
    "Es un hermoso día para dar un paseo por el parque.\n",
    "Las flores están floreciendo y los árboles se mecen suavemente con la brisa.\n",
    "La gente está fuera de casa, disfrutando del hermoso clima.\n",
    "Algunos hacen picnic, mientras que otros juegan o simplemente se relajan en el césped.\n",
    "Es un día perfecto para pasar tiempo al aire libre y apreciar la belleza de la naturaleza.\n",
    "\"\"\"\n",
    "prompt = f\"\"\"\n",
    "Se proporcionará un texto delimitado por comillas triples.\n",
    "Si contiene una secuencia de instrucciones, vuelve a escribir esas instrucciones en el siguiente formato:\n",
    "\n",
    "Paso 1 - ...\n",
    "Paso 2 - …\n",
    "…\n",
    "Paso N -…\n",
    "\n",
    "Si el texto no contiene una secuencia de instrucciones, simplemente escribe \"Lo siento, no se han proporcionan pasos\".\n",
    "\n",
    "'''{text_2}'''\n",
    "\"\"\"\n",
    "response = get_completion(prompt)\n",
    "print(response)"
   ]
  },
  {
   "cell_type": "markdown",
   "metadata": {},
   "source": [
    "#### Técnica 4: \"Few-shot\" prompting"
   ]
  },
  {
   "cell_type": "code",
   "execution_count": null,
   "metadata": {},
   "outputs": [],
   "source": [
    "prompt = f\"\"\"\n",
    "Su tarea es responder con un estilo coherente.\n",
    "\n",
    "<niño>: Enséñame sobre la paciencia.\n",
    "\n",
    "<abuelo>: El río que labra el valle más profundo brota de un modesto manantial;\n",
    "la sinfonía más grandiosa se origina a partir de una sola nota;\n",
    "El tapiz más complejo comienza con un hilo solitario.\n",
    "\n",
    "<niño>: Enséñame sobre la resiliencia.\n",
    "\"\"\"\n",
    "response = get_completion(prompt)\n",
    "print(response)"
   ]
  },
  {
   "cell_type": "markdown",
   "metadata": {},
   "source": [
    "### Técnicas principio 2\n",
    "\n",
    "#### Técnica 1: Especificar los pasos necesarios para finalizar una tarea."
   ]
  },
  {
   "cell_type": "code",
   "execution_count": null,
   "metadata": {},
   "outputs": [],
   "source": [
    "text = f\"\"\"\n",
    "En un pueblo encantador, los hermanos Jack y Jill emprenden una búsqueda para buscar agua de un pozo en la cima de una colina.\n",
    "Mientras subían, cantando alegremente, llegó la desgracia: Jack tropezó con una piedra y cayó colina abajo, y Jill se tiró a intentar rescatarlo.\n",
    "Aunque un poco golpeados, la pareja regresó a casa. A pesar del percance, su espíritu aventurero permaneció intacto y continuaron explorando con ganas.\n",
    "\"\"\"\n",
    "# example 1\n",
    "prompt_1 = f\"\"\"\n",
    "Realiza las siguientes acciones:\n",
    "1 - Resume el siguiente texto delimitado por triples comillas invertidas con 1 frase.\n",
    "2 - Traducir el resumen al inglés.\n",
    "3 - Enumera cada nombre en el resumen en inglés.\n",
    "4 - Genera un objeto json que contenga las siguiente claves: resumen_inglés, num_nombres.\n",
    "\n",
    "Separa sus respuestas con saltos de línea.\n",
    "\n",
    "Texto:\n",
    "```{text}```\n",
    "\"\"\"\n",
    "response = get_completion(prompt_1)\n",
    "print(response)"
   ]
  },
  {
   "cell_type": "markdown",
   "metadata": {},
   "source": [
    "#### Técnica 2: Indicar al modelo que encuentre su propia solución antes de apresurarse a llegar a una conclusión."
   ]
  },
  {
   "cell_type": "code",
   "execution_count": null,
   "metadata": {},
   "outputs": [],
   "source": [
    "prompt = f\"\"\"\n",
    "Determinar si la solución del estudiante es correcta o no.\n",
    "\n",
    "Pregunta:\n",
    "Estoy construyendo una instalación de energía solar y necesito ayuda para resolver las finanzas.\n",
    "- El terreno cuesta $100 / metro cuadrado\n",
    "- Puedo comprar paneles solares por $250 / metro cuadrado\n",
    "- Negocié un contrato de mantenimiento que costará 100.000 dólares fijos al año y 10 dólares adicionales por metro cuadrado\n",
    "¿Cuál es el coste total del primer año de operaciones en función del número de metros cuadrados?.\n",
    "\n",
    "Solución del estudiante:\n",
    "Sea x el tamaño de la instalación en pies cuadrados.\n",
    "Costes:\n",
    "1. Coste del terreno: 100x\n",
    "2. Coste del panel solar: 250x\n",
    "3. Coste de mantenimiento: 100.000 + 100x\n",
    "Coste total: 100x + 250x + 100,000 + 100x = 450x + 100,000\n",
    "\"\"\"\n",
    "response = get_completion(prompt)\n",
    "print(response)"
   ]
  },
  {
   "cell_type": "markdown",
   "metadata": {},
   "source": [
    "Podemos mejorar esta solución dándole instrucciones al modelo para que trabaje primero en su propia solución y luego la compare con la del alumno."
   ]
  },
  {
   "cell_type": "code",
   "execution_count": null,
   "metadata": {},
   "outputs": [],
   "source": [
    "prompt = f\"\"\"\n",
    "La tarea es determinar si la solución del estudiante es correcta o no.\n",
    "Para resolver el problema haz lo siguiente:\n",
    "- Primero, elabora tu propia solución al problema, incluido el total final.\n",
    "- Luego compara tu solución con la solución del estudiante y evalúa si la solución del estudiante es correcta o no.\n",
    "No decidas si la solución del estudiante es correcta hasta que tu mismo hayas resuelto el problema.\n",
    "\n",
    "Utiliza el siguiente formato:\n",
    "Pregunta:\n",
    "```\n",
    "pregunta aquí\n",
    "```\n",
    "La solución del estudiante:\n",
    "```\n",
    "la solución del estudiante aquí\n",
    "```\n",
    "Solución real:\n",
    "```\n",
    "la solución correcta aquí\n",
    "```\n",
    "\n",
    "¿La solución del estudiante es la misma que la solución real?\n",
    "\n",
    "```\n",
    "sí o no\n",
    "```\n",
    "Calificación del estudiante:\n",
    "```\n",
    "correcto o incorrecto\n",
    "```\n",
    "La solución real\n",
    "```\n",
    "Escribe aquí la solución real\n",
    "```\n",
    "\n",
    "Pregunta:\n",
    "```\n",
    "Estoy construyendo una instalación de energía solar y necesito ayuda para resolver las finanzas.\n",
    "- El terreno cuesta $100 / metro cuadrado\n",
    "- Puedo comprar paneles solares por $250 / metro cuadrado\n",
    "- Negocié un contrato de mantenimiento que costará 100.000 dólares fijos al año y 10 dólares adicionales por metro cuadrado\n",
    "¿Cuál es el coste total del primer año de operaciones en función del número de metros cuadrados?.\n",
    "```\n",
    "La solución del estudiante:\n",
    "```\n",
    "Sea x el tamaño de la instalación en pies cuadrados.\n",
    "Costes:\n",
    "1. Coste del terreno: 100x\n",
    "2. Coste del panel solar: 250x\n",
    "3. Coste de mantenimiento: 100.000 + 100x\n",
    "Coste total: 100x + 250x + 100,000 + 100x = 450x + 100,000\n",
    "```\n",
    "Solución real:\n",
    "```\n",
    "pasos para encontrar la solución y tu solución aquí\n",
    "```\n",
    "\"\"\"\n",
    "response = get_completion(prompt)\n",
    "print(response)"
   ]
  },
  {
   "cell_type": "markdown",
   "metadata": {},
   "source": [
    "## Prompt development iterativo\n",
    "- **En este ejercicio, vamos a analizar y refinar nuestros prompts de forma iterativa, con el objetivo de generarar un texto enfocado a marketing sobre una ficha técnica de un producto**\n",
    "\n",
    "### Generar una descripción de marketing de la ficha técnica de un producto"
   ]
  },
  {
   "cell_type": "code",
   "execution_count": null,
   "metadata": {},
   "outputs": [],
   "source": [
    "fact_sheet_chair = \"\"\"\n",
    "DESCRIPCIÓN GENERAL\n",
    "- Parte de una hermosa familia de muebles de oficina inspirados en mediados de siglo incluidos archivadores, escritorios, estanterías, mesas de reuniones y más.\n",
    "- Varias opciones de color de carcasa y acabados de base.\n",
    "- Disponible con tapizado trasero y delantero de plástico (SWC-100) o tapizado completo (SWC-110) en 10 opciones de tela y 6 de cuero.\n",
    "- Las opciones de acabado de la base son: acero inoxidable, negro mate, blanco brillo o cromado.\n",
    "- Silla disponible con o sin reposabrazos.\n",
    "- Adecuado para entornos domésticos o comerciales.\n",
    "\n",
    "CONSTRUCCIÓN\n",
    "- Base de aluminio plastificado de 5 ruedas.\n",
    "- Ajuste neumático de la silla para facilitar la acción de subir/bajar.\n",
    "\n",
    "DIMENSIONES\n",
    "- ANCHO 53 CM | 20,87”\n",
    "- PROFUNDIDAD 51 CM | 20.08”\n",
    "- ALTURA 80 CM | 31.50”\n",
    "- ALTURA DEL ASIENTO 44 CM | 17,32”\n",
    "- PROFUNDIDAD DEL ASIENTO 41 CM | 16,14”\n",
    "\n",
    "OPCIONES\n",
    "- Opciones de ruedas para piso blando o duro.\n",
    "- Dos opciones de densidades de espuma de asiento:\n",
    "  medio (1,8 lb/ft3) o alto (2,8 lb/ft3)\n",
    "- Reposabrazos de PU sin brazos o de 8 posiciones\n",
    "\n",
    "MATERIALES\n",
    "PLANEADOR CON BASE DE CONCHA\n",
    "- Aluminio fundido con revestimiento de nailon modificado PA6/PA66.\n",
    "- Grosor de la carcasa: 10 mm.\n",
    "ASIENTO\n",
    "- Espuma HD36\n",
    "\n",
    "PAÍS DE ORIGEN\n",
    "- Italia\n",
    "\"\"\"\n",
    "\n",
    "prompt = f\"\"\"\n",
    "La tarea es ayudar a un equipo de marketing a crear una\n",
    "descripción en un sitio web minorista de un producto basado\n",
    "en una ficha técnica.\n",
    "\n",
    "Escribe una descripción del producto basada en la información.\n",
    "prevista en las especificaciones técnicas delimitadas por\n",
    "triples comillas invertidas.\n",
    "\n",
    "Especificaciones técnicas: ```{fact_sheet_chair}```\n",
    "\"\"\"\n",
    "response = get_completion(prompt)\n",
    "print(response)"
   ]
  },
  {
   "cell_type": "markdown",
   "metadata": {},
   "source": [
    "### Primer reto: El texto es demasiado largo. Debemos limitar el número de palabras o frases"
   ]
  },
  {
   "cell_type": "code",
   "execution_count": null,
   "metadata": {},
   "outputs": [],
   "source": [
    "prompt = f\"\"\"\n",
    "La tarea es ayudar a un equipo de marketing a crear una\n",
    "descripción en un sitio web minorista de un producto basado\n",
    "en una ficha técnica.\n",
    "\n",
    "Escribe una descripción del producto basada en la información.\n",
    "prevista en las especificaciones técnicas delimitadas por\n",
    "triples comillas invertidas.\n",
    "\n",
    "Utiliza como máximo 50 palabras.\n",
    "\n",
    "Especificaciones técnicas: ```{fact_sheet_chair}```\n",
    "\"\"\"\n",
    "response = get_completion(prompt)\n",
    "print(response)"
   ]
  },
  {
   "cell_type": "markdown",
   "metadata": {},
   "source": [
    "### Segundo reto: La descripción se enfoca en algunos detalles no relevantes para la audiencia, que son minoristas de muebles."
   ]
  },
  {
   "cell_type": "code",
   "execution_count": null,
   "metadata": {},
   "outputs": [],
   "source": [
    "prompt = f\"\"\"\n",
    "La tarea consiste ayudar a un equipo de marketing a crear una\n",
    "descripción en un sitio web minorista de un producto basado\n",
    "en una ficha técnica.\n",
    "\n",
    "Escribe una descripción del producto basada en la información.\n",
    "prevista en las especificaciones técnicas delimitadas por\n",
    "triples comillas invertidas.\n",
    "\n",
    "La descripción está destinada a minoristas de muebles,\n",
    "por lo que debería ser de naturaleza técnica y centrarse en la\n",
    "materiales con los que está construido el producto.\n",
    "\n",
    "Utilice como máximo 50 palabras.\n",
    "\n",
    "Especificaciones técnicas: ```{fact_sheet_chair}```\n",
    "\"\"\"\n",
    "response = get_completion(prompt)\n",
    "print(response)"
   ]
  },
  {
   "cell_type": "code",
   "execution_count": null,
   "metadata": {},
   "outputs": [],
   "source": [
    "prompt = f\"\"\"\n",
    "La tarea consiste en ayudar a un equipo de marketing a crear una\n",
    "descripción en un sitio web minorista de un producto basado\n",
    "en una ficha técnica.\n",
    "\n",
    "Escribe una descripción del producto basada en la información.\n",
    "prevista en las especificaciones técnicas delimitadas por\n",
    "triples comillas invertidas.\n",
    "\n",
    "La descripción está destinada a minoristas de muebles,\n",
    "por lo que debería ser de naturaleza técnica y centrarse en la\n",
    "materiales con los que está construido el producto.\n",
    "\n",
    "Al final de la descripción, incluye todos los ID del producto compuestos por 7 caracteres que aparecen en la especificación técnica.\n",
    "\n",
    "Utilice como máximo 50 palabras.\n",
    "\n",
    "Especificaciones técnicas: ```{fact_sheet_chair}```\n",
    "\"\"\"\n",
    "response = get_completion(prompt)\n",
    "print(response)"
   ]
  },
  {
   "cell_type": "markdown",
   "metadata": {},
   "source": [
    "### Tercer reto: La descripción necesita una tabla de dimensiones."
   ]
  },
  {
   "cell_type": "code",
   "execution_count": null,
   "metadata": {},
   "outputs": [],
   "source": [
    "prompt = f\"\"\"\n",
    "La tarea consiste en ayudar a un equipo de marketing a crear una\n",
    "descripción de para un sitio web minorista de un producto basado\n",
    "en una ficha técnica.\n",
    "\n",
    "Escribe una descripción del producto basada en la información.\n",
    "previsto en las especificaciones técnicas delimitadas por\n",
    "triples comillas invertidas.\n",
    "\n",
    "La descripción está destinada a minoristas de muebles,\n",
    "por lo que debería ser de naturaleza técnica y centrarse en la\n",
    "materiales con los que está construido el producto.\n",
    "\n",
    "Al final de la descripción, incluye todos los ID del producto compuestos por 7 caracteres que aparecen en la especificación técnica.\n",
    "\n",
    "\n",
    "Después de la descripción, incluye una tabla que proporcione todas las dimensiones del producto. La tabla debe tener dos columnas.\n",
    "En la primera columna incluye el nombre de la dimensión.\n",
    "En la segunda columna incluye las medidas solo en pulgadas.\n",
    "\n",
    "Asigna a la tabla el título \"Dimensiones del producto\".\n",
    "\n",
    "Formatea todo como HTML que pueda usarse en un sitio web.\n",
    "Coloca la descripción en un elemento <div>.\n",
    "\n",
    "Especificaciones técnicas: ```{fact_sheet_chair}```\n",
    "\"\"\"\n",
    "\n",
    "response = get_completion(prompt)\n",
    "print(response)"
   ]
  },
  {
   "cell_type": "markdown",
   "metadata": {},
   "source": [
    "## Prompt development resúmenes\n",
    "- **En este ejercicio, vamos a resumir textos enfocados en diferentes temáticas**\n",
    "\n",
    "### Texto para resumir con un límite de palabras o frases."
   ]
  },
  {
   "cell_type": "code",
   "execution_count": null,
   "metadata": {},
   "outputs": [],
   "source": [
    "prod_review = \"\"\"\n",
    "Conseguí este oso panda de peluche para el cumpleaños de mi hija que lo ama y lo lleva a todas partes.\n",
    "Es suave y súper lindo y su cara tiene una mirada amigable.\n",
    "Es un poco pequeño para lo que pagué. Creo que podrían haber otros osos que sean más grandes para ese mismo precio.\n",
    "Llegó un día antes de lo esperado, así que pude jugar con él antes de dárselo a ella.\n",
    "\"\"\"\n",
    "prompt = f\"\"\"\n",
    "La tarea consiste en generar un breve resumen de un producto reseña de un sitio de comercio electrónico.\n",
    "\n",
    "Resume la reseña a continuación, delimitada por triple comillas invertidas, en un máximo de 30 palabras.\n",
    "\n",
    "Resumen: ```{prod_review}```\n",
    "\"\"\"\n",
    "\n",
    "response = get_completion(prompt)\n",
    "print(response)"
   ]
  },
  {
   "cell_type": "markdown",
   "metadata": {},
   "source": [
    "### Hacer un resumen del texto enfocado en el transporte y la entrega"
   ]
  },
  {
   "cell_type": "code",
   "execution_count": null,
   "metadata": {},
   "outputs": [],
   "source": [
    "prompt = f\"\"\"\n",
    "La tarea consiste en generar un breve resumen de un producto, revisar desde un sitio de comercio electrónico para dar su opinión al departamento de envíos.\n",
    "\n",
    "Resume la reseña a continuación, delimitada por triples comillas invertidas, en un máximo de 30 palabras y centrándose en cualquier aspecto \\\n",
    "que mencione el envío y entrega del producto.\n",
    "\n",
    "Resumen: ```{prod_review}```\n",
    "\"\"\"\n",
    "\n",
    "response = get_completion(prompt)\n",
    "print(response)"
   ]
  },
  {
   "cell_type": "markdown",
   "metadata": {},
   "source": [
    "### Hacer un resumen del texto enfocado en el precio y valor aportado"
   ]
  },
  {
   "cell_type": "code",
   "execution_count": null,
   "metadata": {},
   "outputs": [],
   "source": [
    "prompt = f\"\"\"\n",
    "La tarea consiste en generar un breve resumen de un producto, revisarlo desde un sitio de comercio electrónico para dar su opinión al departamento de ventas,\n",
    "responsable de determinar el precio del producto.\n",
    "\n",
    "Resume la reseña a continuación, delimitada por triples comillas invertidas,\n",
    "en un máximo de 30 palabras y centrándose en cualquier aspecto que sea relevante para el precio y el valor percibido.\n",
    "\n",
    "Resumen: ```{prod_review}```\n",
    "\"\"\"\n",
    "\n",
    "response = get_completion(prompt)\n",
    "print(response)"
   ]
  },
  {
   "cell_type": "markdown",
   "metadata": {},
   "source": [
    "### Resumir múltiples reseñas al mismo tiempo"
   ]
  },
  {
   "cell_type": "code",
   "execution_count": null,
   "metadata": {},
   "outputs": [],
   "source": [
    "review_1 = prod_review \n",
    "\n",
    "# review for a standing lamp\n",
    "review_2 = \"\"\"\n",
    "Necesitaba una bonita lámpara para mi dormitorio y que tuviese un precio no demasiado alto.\n",
    "Lo conseguí rápido, llegó en 2 días.\n",
    "La cuerda se le rompió durante el transporte y la empresa me ha enviado uno nuevo.\n",
    "Llegó a los pocos días también. Fue fácil de montar.\n",
    "Entonces tuve un problema y es que faltaba una parte, así que me comuniqué con su soporte y ellos me consiguieron \n",
    "la pieza que faltaba de forma rápida.\n",
    "Es una gran empresa que se preocupa por sus clientes y productos. \n",
    "\"\"\"\n",
    "\n",
    "# review for an electric toothbrush\n",
    "review_3 = \"\"\"\n",
    "Mi dentista me recomendó un cepillo de dientes eléctrico.\n",
    "Por eso compré esto. La duración de la batería parece ser bastante impresionante hasta ahora.\n",
    "Después de la carga inicial y dejar el cargador enchufado durante la primera semana para acondicionar la batería,\n",
    "he desconectado el cargador y lo he estado usando para cepillarme tres veces al día durante \n",
    "3 semanas todo con la misma carga. \n",
    "Sin embargo, el cabezal del cepillo de dientes es demasiado pequeño. He visto cepillos de dientes para bebés más grandes que este.\n",
    "Ojalá la cabeza fuera más grande con diferentes hilos de longitud para llegar mejor entre los dientes porque este no es capaz.\n",
    "En general, si puedes conseguir este cepillo alrededor de los 50 dólares, es una buena oferta.\n",
    "El fabricante de los cabezales de repuesto es bastante caro, pero puedes obtener genéricos que tengan un precio más razonable. \n",
    "Este cepillo de dientes me hace sentir como si hubiera ido al dentista cada día. ¡Mis dientes se sienten relucientes y limpios!\n",
    "\"\"\"\n",
    "\n",
    "reviews = [review_1, review_2, review_3]\n",
    "\n",
    "for i in range(len(reviews)):\n",
    "    prompt = f\"\"\"\n",
    "    La tarea consiste en generar un breve resumen de un producto/reseña de un sitio de comercio electrónico.\n",
    "\n",
    "    Resume la reseña a continuación, delimitada por triples comillas invertidas en un máximo de 20 palabras.\n",
    "\n",
    "    Resumen: ```{reviews[i]}```\n",
    "    \"\"\"\n",
    "\n",
    "    response = get_completion(prompt)\n",
    "    print(i, response, \"\\n\")"
   ]
  },
  {
   "cell_type": "markdown",
   "metadata": {},
   "source": [
    "## Prompt development inferencia\n",
    "- **En este ejercicio, vamos a inferir sentimiento y temáticas de las reseñas y noticias sobre artículos**\n",
    "\n",
    "### Clasificación de sentimiento (positivo o negativo)"
   ]
  },
  {
   "cell_type": "code",
   "execution_count": null,
   "metadata": {},
   "outputs": [],
   "source": [
    "lamp_review = \"\"\"\n",
    "Necesitaba una bonita lámpara para mi dormitorio y que tuviese un precio no demasiado alto.\n",
    "Lo conseguí rápido, llegó en 2 días.\n",
    "La cuerda se le rompió durante el transporte y la empresa me ha enviado uno nuevo.\n",
    "Llegó a los pocos días también. Fue fácil de montar.\n",
    "Entonces tuve un problema y es que faltaba una parte, así que me comuniqué con su soporte y ellos me consiguieron \n",
    "la pieza que faltaba de forma rápida.\n",
    "Es una gran empresa que se preocupa por sus clientes y productos. \n",
    "\"\"\"\n",
    "\n",
    "prompt = f\"\"\"\n",
    "¿Cuál es el sentimiento de la siguiente revisión del producto?\n",
    "\n",
    "Texto de la reseña: '''{lamp_review}'''\n",
    "\"\"\"\n",
    "response = get_completion(prompt)\n",
    "print(response)"
   ]
  },
  {
   "cell_type": "code",
   "execution_count": null,
   "metadata": {},
   "outputs": [],
   "source": [
    "prompt = f\"\"\"\n",
    "¿Cuál es el sentimiento de la siguiente revisión del producto?\n",
    "\n",
    "Da una respuesta empleando una única palabra, ya sea \"positiva\" o \"negativa\".\n",
    "\n",
    "Texto de la reseña: '''{lamp_review}'''\n",
    "\"\"\"\n",
    "response = get_completion(prompt)\n",
    "print(response)"
   ]
  },
  {
   "cell_type": "markdown",
   "metadata": {},
   "source": [
    "### Identificación de tipos de emociones"
   ]
  },
  {
   "cell_type": "code",
   "execution_count": null,
   "metadata": {},
   "outputs": [],
   "source": [
    "prompt = f\"\"\"\n",
    "Identifica una lista de emociones expresadas por el escritor del la siguiente reseña.\n",
    "No incluyas más de cinco elementos de la lista.\n",
    "Formatea tu respuesta como una lista de palabras en minúscula separadas por comas.\n",
    "\n",
    "Texto de la reseña: '''{lamp_review}'''\n",
    "\"\"\"\n",
    "response = get_completion(prompt)\n",
    "print(response)"
   ]
  },
  {
   "cell_type": "markdown",
   "metadata": {},
   "source": [
    "### Identificación de enojo"
   ]
  },
  {
   "cell_type": "code",
   "execution_count": null,
   "metadata": {},
   "outputs": [],
   "source": [
    "prompt = f\"\"\"\n",
    "¿El autor de la siguiente reseña está expresando enojo?\n",
    "La reseña está delimitada con triples comillas.\n",
    "Dá tu respuesta como sí o no.\n",
    "\n",
    "Texto de la reseña: '''{lamp_review}'''\n",
    "\"\"\"\n",
    "response = get_completion(prompt)\n",
    "print(response)"
   ]
  },
  {
   "cell_type": "markdown",
   "metadata": {},
   "source": [
    "### Extracción de los productos y el nombre de la empresa de las reseñas de los clientes"
   ]
  },
  {
   "cell_type": "code",
   "execution_count": null,
   "metadata": {},
   "outputs": [],
   "source": [
    "prompt = f\"\"\"\n",
    "Identifica los siguientes elementos del texto de revisión:\n",
    "- Artículo comprado por el cliente\n",
    "- Empresa que fabricó el artículo.\n",
    "\n",
    "La reseña está delimitada con triples comillas.\n",
    "Formatea tu respuesta como un objeto JSON con \"Artículo\" y \"Marca\" como claves.\n",
    "Si la información no está presente, utiliza \"desconocido\" como valor.\n",
    "Haz tu respuesta lo más breve posible.\n",
    "  \n",
    "Texto de la reseña: '''{lamp_review}'''\n",
    "\"\"\"\n",
    "response = get_completion(prompt)\n",
    "print(response)"
   ]
  },
  {
   "cell_type": "markdown",
   "metadata": {},
   "source": [
    "### Realizar múltiples tareas al mismo tiempo"
   ]
  },
  {
   "cell_type": "code",
   "execution_count": null,
   "metadata": {},
   "outputs": [],
   "source": [
    "prompt = f\"\"\"\n",
    "Identifica los siguientes elementos del texto de revisión:\n",
    "- Sentimiento (positivo o negativo)\n",
    "- ¿El crítico expresa enojo? (verdadero o falso)\n",
    "- Artículo comprado por el crítico\n",
    "- Empresa que fabricó el artículo.\n",
    "\n",
    "La reseña está delimitada con triples comillas.\n",
    "Formatea tu respuesta como un objeto JSON con \"Sentimiento\", \"Ira\", \"Artículo\" y \"Marca\" como claves.\n",
    "Si la información no está presente, utiliza \"desconocido\" como valor.\n",
    "Haz tu respuesta lo más breve posible.\n",
    "Formatea el valor de Ira como booleano.\n",
    "\n",
    "Texto de la reseña: '''{lamp_review}'''\n",
    "\"\"\"\n",
    "response = get_completion(prompt)\n",
    "print(response)"
   ]
  },
  {
   "cell_type": "markdown",
   "metadata": {},
   "source": [
    "### Infiriendo temáticas"
   ]
  },
  {
   "cell_type": "code",
   "execution_count": null,
   "metadata": {},
   "outputs": [],
   "source": [
    "story = \"\"\"\n",
    "En una encuesta reciente realizada por el gobierno,\n",
    "se pidió a los empleados del sector público que calificaran su nivel de satisfacción con el departamento en el que trabajan.\n",
    "Los resultados revelaron que la NASA era el departamento más popular con un índice de satisfacción del 95%.\n",
    "\n",
    "Un empleado de la NASA, John Smith, comentó sobre los hallazgos afirmando: \"No me sorprende que la NASA haya salido victoriosa.\n",
    "Es un gran lugar para trabajar con gente increíble y\n",
    "oportunidades increíbles. Estoy orgulloso de ser parte de\n",
    "una organización tan innovadora.\"\n",
    "\n",
    "Los resultados también fueron bien recibidos por el equipo directivo de la NASA,\n",
    "con el director Tom Johnson afirmando: \"Estamos encantados de poder escuchar\n",
    "que nuestros empleados están satisfechos con su trabajo en la NASA.\n",
    "Contamos con un equipo talentoso y dedicado que trabaja incansablemente.\n",
    "para lograr nuestros objetivos, y es fantástico ver que su trabajo duro da sus frutos.\"\n",
    "\n",
    "La encuesta también reveló que el departamento de administración de la seguridad social tuvo la satisfacción más baja\n",
    "y comunicaron que tan solo el 45% de los empleados indicando que estaban\n",
    "satisfechos con su trabajo. \n",
    "El gobierno se ha comprometido a abordar las inquietudes planteadas por los empleados en la encuesta y\n",
    "a trabajar para mejorar la satisfacción laboral en todos los departamentos.\n",
    "\"\"\"\n",
    "\n",
    "prompt = f\"\"\"\n",
    "Determina cinco temas que se están discutiendo en el siguiente texto, que está delimitado por triples comillas.\n",
    "\n",
    "Haz que cada elemento tenga una o dos palabras.\n",
    "\n",
    "Formatea tu respuesta como una lista de elementos separados por comas.\n",
    "\n",
    "Textos de ejemplo: '''{story}'''\n",
    "\"\"\"\n",
    "response = get_completion(prompt)\n",
    "print(response)"
   ]
  },
  {
   "cell_type": "markdown",
   "metadata": {},
   "source": [
    "## Prompt development transformación\n",
    "- **En este ejercicio, vamos a explorar cómo utilizar LLMs para tareas de transformación de texto, como traducción de idiomas, revisión ortográfica y gramatical, ajuste de tono y conversión de formato.**\n",
    "\n",
    "### Traducción"
   ]
  },
  {
   "cell_type": "code",
   "execution_count": null,
   "metadata": {},
   "outputs": [],
   "source": [
    "prompt = f\"\"\"\n",
    "Translate the following English text to Spanish: \\ \n",
    "```Hi, I would like to order a blender```\n",
    "\"\"\"\n",
    "response = get_completion(prompt)\n",
    "print(response)"
   ]
  },
  {
   "cell_type": "code",
   "execution_count": null,
   "metadata": {},
   "outputs": [],
   "source": [
    "prompt = f\"\"\"\n",
    "Dime en qué idioma está escrita la frase entre comillas triples.\n",
    "```Combien coûte le lampadaire?```\n",
    "\"\"\"\n",
    "response = get_completion(prompt)\n",
    "print(response)"
   ]
  },
  {
   "cell_type": "code",
   "execution_count": null,
   "metadata": {},
   "outputs": [],
   "source": [
    "prompt = f\"\"\"\n",
    "Translate the following  text to French and Spanish\n",
    "and English pirate: \\\n",
    "```I want to order a basket ball```\n",
    "\"\"\"\n",
    "response = get_completion(prompt)\n",
    "print(response)"
   ]
  },
  {
   "cell_type": "code",
   "execution_count": null,
   "metadata": {},
   "outputs": [],
   "source": [
    "prompt = f\"\"\"\n",
    "Translate the following text to Spanish in both the \\\n",
    "formal and informal forms: \n",
    "'Would you like to order a pillow?'\n",
    "\"\"\"\n",
    "response = get_completion(prompt)\n",
    "print(response)"
   ]
  },
  {
   "cell_type": "markdown",
   "metadata": {},
   "source": [
    "### Transformación de tono. La redacción de texos puede variar según la audiencia prevista. Los modelos GPT pueden producir diferentes tonos."
   ]
  },
  {
   "cell_type": "code",
   "execution_count": null,
   "metadata": {},
   "outputs": [],
   "source": [
    "prompt = f\"\"\"\n",
    "Traduce lo siguiente de jerga callejera a un tono comercial:\n",
    "'Tronco, soy Jorge, échale un ojo a las especificaciones de esta lámpara de pie y dime algo.'\n",
    "\"\"\"\n",
    "response = get_completion(prompt)\n",
    "print(response)"
   ]
  },
  {
   "cell_type": "markdown",
   "metadata": {},
   "source": [
    "### Transformación de formato"
   ]
  },
  {
   "cell_type": "code",
   "execution_count": null,
   "metadata": {},
   "outputs": [],
   "source": [
    "data_json = { \"Empleados del restaurante\" :[ \n",
    "    {\"name\":\"Diego\", \"email\":\"diego@gmail.com\"},\n",
    "    {\"name\":\"Julia\", \"email\":\"julia@gmail.com\"},\n",
    "    {\"name\":\"Susana\", \"email\":\"susana@gmail.com\"}\n",
    "]}\n",
    "\n",
    "prompt = f\"\"\"\n",
    "Traduce el siguiente diccionario de Python en una tabla HTML con columnas y título: {data_json}\n",
    "\"\"\"\n",
    "response = get_completion(prompt)\n",
    "print(response)"
   ]
  },
  {
   "cell_type": "markdown",
   "metadata": {},
   "source": [
    "### Verificación gramatical"
   ]
  },
  {
   "cell_type": "code",
   "execution_count": null,
   "metadata": {},
   "outputs": [],
   "source": [
    "text = [ \n",
    "  \"Ba a ser un día largo\",  # V no B\n",
    "  \"Natalia le pegó por no cumplir sus orden\", # error en plural/singular\n",
    "  \"Me hecha de menos\" # sin H\n",
    "]\n",
    "for t in text:\n",
    "    prompt = f\"\"\"Revisa y corrige el siguiente texto.\n",
    "     Reescribe la versión corregida. Si no encuentras los errores, simplemente di \"No se encontraron errores\". \n",
    "     El texto se encuentra entre comillas triples:\n",
    "    ```{t}```\"\"\"\n",
    "    response = get_completion(prompt)\n",
    "    print(response)"
   ]
  },
  {
   "cell_type": "markdown",
   "metadata": {},
   "source": [
    "## Prompt development ++ Bonus\n",
    "- **En este ejercicio, vamos a generar emails de atención al cliente personalizados en base a la reseña de cada cliente**"
   ]
  },
  {
   "cell_type": "code",
   "execution_count": null,
   "metadata": {},
   "outputs": [],
   "source": [
    "# given the sentiment from the lesson on \"inferring\",\n",
    "# and the original customer message, customize the email\n",
    "sentiment = \"negativo\"\n",
    "\n",
    "# review for a blender\n",
    "review = f\"\"\"\n",
    "Entonces, todavía tenían el sistema de 17 piezas a la venta por alrededor de $49 en el mes de noviembre,\n",
    "aproximadamente a mitad de precio, pero por alguna razón (llámelo aumento abusivo de precios),\n",
    "alrededor de la segunda semana de diciembre todos los precios subieron hasta aproximadamente entre $ 70 y $ 89 por el mismo sistema.\n",
    "El sistema de 11 piezas subió alrededor de $10 por lo que el precio también difiere del precio de venta anterior de 29 dólares.\n",
    "Se ve bien, pero si miras la base, la parte donde la hoja encaja en su lugar no se ve tan bien\n",
    "como en ediciones anteriores de hace unos años, pero yo planeo usar este aparato para tareas sencillas\n",
    "(por ejemplo, aplastar alimentos muy duros como frijoles, hielo, arroz, etc. en la licuadora primero\n",
    "y luego pulverizarlos en el tamaño de la porción).\n",
    "Consejo especial al hacer batidos, cortar finamente y congelar las frutas y\n",
    "verduras (si usa espinacas, guisadas ligeramente, ablanda las\n",
    "espinacas y luego congélalas hasta que estén listas para usar, y si las preparas para\n",
    "sorbete, usa un procesador de alimentos de tamaño pequeño a mediano)\n",
    "Después de aproximadamente un año, el motor hacía un ruido extraño, llamé a atención al cliente pero la garantía expiró.\n",
    "Por este motivo tuve que comprar otro. \n",
    "Para vuestra información: la calidad general es buena en este tipo de productos, por eso\n",
    "en cierto modo cuentan con el reconocimiento de la marca y fidelización del consumidor para mantener las ventas.\n",
    "Me llegó en aproximadamente dos días.\n",
    "\"\"\"\n",
    "\n",
    "prompt = f\"\"\"\n",
    "Eres un asistente de IA de servicio al cliente.\n",
    "Tu tarea es enviar una respuesta por correo electrónico a un cliente valioso.\n",
    "Dado el correo electrónico del cliente delimitado por ```, tienes que generar una respuesta para agradecer al cliente su reseña.\n",
    "Si el sentimiento es positivo o neutral, agradéceles su reseña.\n",
    "Si el sentimiento es negativo, discúlpate y sugiere que pueden comunicarse con el servicio de atención al cliente.\n",
    "Asegúrate de utilizar detalles específicos de la revisión.\n",
    "Escribe en un tono conciso y profesional.\n",
    "Firma el correo electrónico como \"agente de cliente de AI\".\n",
    "Reseña del cliente: ```{review}```\n",
    "Sentimiento de la reseña: {sentiment}\n",
    "\"\"\"\n",
    "response = get_completion(prompt)\n",
    "print(response)"
   ]
  }
 ],
 "metadata": {
  "kernelspec": {
   "display_name": "Python 3 (ipykernel)",
   "language": "python",
   "name": "python3"
  },
  "language_info": {
   "codemirror_mode": {
    "name": "ipython",
    "version": 3
   },
   "file_extension": ".py",
   "mimetype": "text/x-python",
   "name": "python",
   "nbconvert_exporter": "python",
   "pygments_lexer": "ipython3",
   "version": "3.11.5"
  }
 },
 "nbformat": 4,
 "nbformat_minor": 2
}
